{
 "cells": [
  {
   "cell_type": "code",
   "execution_count": 2,
   "metadata": {},
   "outputs": [
    {
     "name": "stdout",
     "output_type": "stream",
     "text": [
      "输入糗事百科网址:https://www.qiushibaike.com/\n"
     ]
    }
   ],
   "source": [
    "from lxml import etree\n",
    "from urllib import request\n",
    "\n",
    "def GetPage(url):              #获取源代码\n",
    "    header={'User-Agent':'Mozilla/5.0 (X11; Fedora; Linux x86_64) AppleWebKit/537.36 (KHTML, like Gecko) Chrome/58.0.3029.110 Safari/537.36'}\n",
    "    page=request.Request(url,headers=header)\n",
    "    org_code=request.urlopen(page).read()\n",
    "    return org_code\n",
    "\n",
    "def ParseOrg_code(org_code):    #抓取数据\n",
    "    tree=etree.HTML(org_code)\n",
    "    match='//a[@class=\"contentHerf\"]/div/span/text()'  #获取段子文本，改进版本会考虑点赞数\n",
    "    container=tree.xpath(match)\n",
    "    return container\n",
    "\n",
    "def download(container):       #保存数据\n",
    "    with open(r'C:\\Users\\levovo\\Desktop\\糗事百科.txt','w',) as f:\n",
    "        f.writelines(container)               \n",
    "\n",
    "def main():\n",
    "    ur l= input('输入糗事百科网址:')   # https://www.qiushibaike.com/\n",
    "    org_code = GetPage(url)\n",
    "    container = ParseOrg_code(org_code)\n",
    "    download(container)\n",
    "\n",
    "if __name__ == '__main__':\n",
    "    main()"
   ]
  }
 ],
 "metadata": {
  "kernelspec": {
   "display_name": "Python 3",
   "language": "python",
   "name": "python3"
  },
  "language_info": {
   "codemirror_mode": {
    "name": "ipython",
    "version": 3
   },
   "file_extension": ".py",
   "mimetype": "text/x-python",
   "name": "python",
   "nbconvert_exporter": "python",
   "pygments_lexer": "ipython3",
   "version": "3.6.5"
  }
 },
 "nbformat": 4,
 "nbformat_minor": 2
}
