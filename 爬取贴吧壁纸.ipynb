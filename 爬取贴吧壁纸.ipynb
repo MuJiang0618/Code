{
 "cells": [
  {
   "cell_type": "code",
   "execution_count": null,
   "metadata": {},
   "outputs": [
    {
     "name": "stdout",
     "output_type": "stream",
     "text": [
      "请输入访问页面深度:4\n"
     ]
    }
   ],
   "source": [
    "# -*- coding:utf-8 -*-\n",
    "import re\n",
    "from bs4 import BeautifulSoup\n",
    "import requests\n",
    "\n",
    "def GetPage(url):\n",
    "    headers_={\"User-Agent\": \"Mozilla/5.0 (Macintosh; Intel Mac OS X 10_12_1) AppleWebKit/537.36 (KHTML, like Gecko) Chrome/54.0.2840.98 Safari/537.36\"}\n",
    "    r=requests.get(url,headers=headers_)\n",
    "    r.encoding='utf-8'\n",
    "    return r.text\n",
    "\n",
    "def ParsePage(html,imglist):\n",
    "    soup=BeautifulSoup(html,'html.parser')\n",
    "    list_=soup.find_all('img',src=True)    #得到所有图片信息标签的一个列表\n",
    "    for i in list_:\n",
    "        imglist.append(i.get('src'))   #得到所有图片地址的一个列表，地址此时为字符串对象\n",
    "\n",
    "def StoreImg(imglist):\n",
    "    for i in range(len(imglist)):\n",
    "        try:\n",
    "            b=requests.get(imglist[i])\n",
    "            b.encoding='utf-8'\n",
    "            with open('D:\\\\test\\\\'+str(i)+'.'+imglist[i][-3:],'wb') as f:\n",
    "                    f.write(b.content)\n",
    "        except:\n",
    "            continue\n",
    "\n",
    "def main():\n",
    "    url_='https://tieba.baidu.com/p/5182823169?pn='\n",
    "    depth_=input('请输入访问页面深度:')\n",
    "    depth=int(depth_)\n",
    "    imglist=[]\n",
    "    for n in range(depth):\n",
    "        url=url_+str(n+1)\n",
    "        html=GetPage(url)\n",
    "        ParsePage(html,imglist)\n",
    "\n",
    "    StoreImg(imglist)\n",
    "\n",
    "if __name__ == '__main__':\n",
    "    main()"
   ]
  }
 ],
 "metadata": {
  "kernelspec": {
   "display_name": "Python 3",
   "language": "python",
   "name": "python3"
  },
  "language_info": {
   "codemirror_mode": {
    "name": "ipython",
    "version": 3
   },
   "file_extension": ".py",
   "mimetype": "text/x-python",
   "name": "python",
   "nbconvert_exporter": "python",
   "pygments_lexer": "ipython3",
   "version": "3.6.5"
  }
 },
 "nbformat": 4,
 "nbformat_minor": 2
}
