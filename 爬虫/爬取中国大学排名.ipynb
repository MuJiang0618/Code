{
 "cells": [
  {
   "cell_type": "code",
   "execution_count": 1,
   "metadata": {},
   "outputs": [
    {
     "name": "stdout",
     "output_type": "stream",
     "text": [
      "    排名    \t 学校名称 \t    总分    \n",
      "    1     \t 清华大学 \t   95.9   \n",
      "    2     \t 北京大学 \t   82.6   \n",
      "    3     \t 浙江大学 \t    80    \n",
      "    4     \t上海交通大学\t   78.7   \n",
      "    5     \t 复旦大学 \t   70.9   \n",
      "    6     \t 南京大学 \t   66.1   \n",
      "    7     \t中国科学技术大学\t   65.5   \n",
      "    8     \t哈尔滨工业大学\t   63.5   \n",
      "    9     \t华中科技大学\t   62.9   \n",
      "    10    \t 中山大学 \t   62.1   \n",
      "    11    \t 东南大学 \t   61.4   \n",
      "    12    \t 天津大学 \t   60.8   \n",
      "    13    \t 同济大学 \t   59.8   \n",
      "    14    \t北京航空航天大学\t   59.6   \n",
      "    15    \t 四川大学 \t   59.4   \n",
      "    16    \t 武汉大学 \t   59.1   \n",
      "    17    \t西安交通大学\t   58.9   \n",
      "    18    \t 南开大学 \t   58.3   \n",
      "    19    \t大连理工大学\t   56.9   \n",
      "    20    \t 山东大学 \t   56.3   \n"
     ]
    }
   ],
   "source": [
    "# -*- coding:utf-8 -*-\n",
    "import bs4\n",
    "import requests\n",
    "from bs4 import BeautifulSoup\n",
    "\n",
    "def thesoup(url):\n",
    "    r=requests.get(url)\n",
    "    r.encoding='utf-8'\n",
    "    demo=r.text\n",
    "    return demo\n",
    "\n",
    "def fillunivlist(univlist,html):\n",
    "    soup=BeautifulSoup(html,'html.parser')\n",
    "    for tr in soup.find('tbody').children:\n",
    "        if isinstance(tr, bs4.element.Tag):\n",
    "            list1=tr('td')\n",
    "            univlist.append([list1[0].string,list1[1].string,list1[3].string])\n",
    "\n",
    "def printunivlist(univlist,num):\n",
    "    print('{:^10}\\t{:^6}\\t{:^10}'.format('排名','学校名称','总分'))\n",
    "    for i in range(num):\n",
    "        u=univlist[i]\n",
    "        print('{:^10}\\t{:^6}\\t{:^10}'.format(u[0],u[1],u[2]))\n",
    "\n",
    "def main():\n",
    "    url='http://www.zuihaodaxue.cn/zuihaodaxuepaiming2016.html'\n",
    "    univlist=[]\n",
    "    html=thesoup(url)\n",
    "    fillunivlist(univlist,html)\n",
    "    printunivlist(univlist,20)\n",
    "\n",
    "main()"
   ]
  }
 ],
 "metadata": {
  "kernelspec": {
   "display_name": "Python 3",
   "language": "python",
   "name": "python3"
  },
  "language_info": {
   "codemirror_mode": {
    "name": "ipython",
    "version": 3
   },
   "file_extension": ".py",
   "mimetype": "text/x-python",
   "name": "python",
   "nbconvert_exporter": "python",
   "pygments_lexer": "ipython3",
   "version": "3.6.5"
  }
 },
 "nbformat": 4,
 "nbformat_minor": 2
}
